{
    "cells": [
        {
            "metadata": {},
            "cell_type": "code",
            "source": "",
            "execution_count": null,
            "outputs": []
        },
        {
            "metadata": {},
            "cell_type": "code",
            "source": "\nimport types\nimport pandas as pd\nfrom botocore.client import Config\nimport ibm_boto3\n\ndef __iter__(self): return 0\n\n# @hidden_cell\n# The following code accesses a file in your IBM Cloud Object Storage. It includes your credentials.\n# You might want to remove those credentials before you share the notebook.\nclient_e07643f979704dc7ae0b561628bc4b4c = ibm_boto3.client(service_name='s3',\n    ibm_api_key_id='162CZ_hpRjRhQuakog2karuAqCKpF81CV5UYbiaUg7he',\n    ibm_auth_endpoint=\"https://iam.eu-gb.bluemix.net/oidc/token\",\n    config=Config(signature_version='oauth'),\n    endpoint_url='https://s3.eu-geo.objectstorage.service.networklayer.com')\n\nbody = client_e07643f979704dc7ae0b561628bc4b4c.get_object(Bucket='mlproject-donotdelete-pr-afo71f98fyoicb',Key='covid_19_clean_complete.csv')['Body']\n# add missing __iter__ method, so pandas accepts body as file-like object\nif not hasattr(body, \"__iter__\"): body.__iter__ = types.MethodType( __iter__, body )\n\ndata = pd.read_csv(body)\n",
            "execution_count": 3,
            "outputs": []
        },
        {
            "metadata": {},
            "cell_type": "code",
            "source": "data.shape\n\n",
            "execution_count": 4,
            "outputs": [
                {
                    "output_type": "execute_result",
                    "execution_count": 4,
                    "data": {
                        "text/plain": "(20097, 8)"
                    },
                    "metadata": {}
                }
            ]
        },
        {
            "metadata": {},
            "cell_type": "code",
            "source": "data.tail()\n\n",
            "execution_count": 5,
            "outputs": [
                {
                    "output_type": "execute_result",
                    "execution_count": 5,
                    "data": {
                        "text/plain": "                    Province/State         Country/Region       Lat  \\\n20092  Falkland Islands (Malvinas)         United Kingdom -51.79630   \n20093    Saint Pierre and Miquelon                 France  46.88520   \n20094                          NaN            South Sudan   6.87700   \n20095                          NaN         Western Sahara  24.21550   \n20096                          NaN  Sao Tome and Principe   0.18636   \n\n            Long    Date  Confirmed  Deaths  Recovered  \n20092 -59.523600  4/7/20          2       0          0  \n20093 -56.315900  4/7/20          1       0          0  \n20094  31.307000  4/7/20          2       0          0  \n20095 -12.885800  4/7/20          4       0          0  \n20096   6.613081  4/7/20          4       0          0  ",
                        "text/html": "<div>\n<style scoped>\n    .dataframe tbody tr th:only-of-type {\n        vertical-align: middle;\n    }\n\n    .dataframe tbody tr th {\n        vertical-align: top;\n    }\n\n    .dataframe thead th {\n        text-align: right;\n    }\n</style>\n<table border=\"1\" class=\"dataframe\">\n  <thead>\n    <tr style=\"text-align: right;\">\n      <th></th>\n      <th>Province/State</th>\n      <th>Country/Region</th>\n      <th>Lat</th>\n      <th>Long</th>\n      <th>Date</th>\n      <th>Confirmed</th>\n      <th>Deaths</th>\n      <th>Recovered</th>\n    </tr>\n  </thead>\n  <tbody>\n    <tr>\n      <th>20092</th>\n      <td>Falkland Islands (Malvinas)</td>\n      <td>United Kingdom</td>\n      <td>-51.79630</td>\n      <td>-59.523600</td>\n      <td>4/7/20</td>\n      <td>2</td>\n      <td>0</td>\n      <td>0</td>\n    </tr>\n    <tr>\n      <th>20093</th>\n      <td>Saint Pierre and Miquelon</td>\n      <td>France</td>\n      <td>46.88520</td>\n      <td>-56.315900</td>\n      <td>4/7/20</td>\n      <td>1</td>\n      <td>0</td>\n      <td>0</td>\n    </tr>\n    <tr>\n      <th>20094</th>\n      <td>NaN</td>\n      <td>South Sudan</td>\n      <td>6.87700</td>\n      <td>31.307000</td>\n      <td>4/7/20</td>\n      <td>2</td>\n      <td>0</td>\n      <td>0</td>\n    </tr>\n    <tr>\n      <th>20095</th>\n      <td>NaN</td>\n      <td>Western Sahara</td>\n      <td>24.21550</td>\n      <td>-12.885800</td>\n      <td>4/7/20</td>\n      <td>4</td>\n      <td>0</td>\n      <td>0</td>\n    </tr>\n    <tr>\n      <th>20096</th>\n      <td>NaN</td>\n      <td>Sao Tome and Principe</td>\n      <td>0.18636</td>\n      <td>6.613081</td>\n      <td>4/7/20</td>\n      <td>4</td>\n      <td>0</td>\n      <td>0</td>\n    </tr>\n  </tbody>\n</table>\n</div>"
                    },
                    "metadata": {}
                }
            ]
        },
        {
            "metadata": {},
            "cell_type": "code",
            "source": "re_data=data.groupby('Date').sum()\nre_data.head()",
            "execution_count": 12,
            "outputs": [
                {
                    "output_type": "execute_result",
                    "execution_count": 12,
                    "data": {
                        "text/plain": "                Lat         Long  Confirmed  Deaths  Recovered\nDate                                                          \n1/22/20  5600.04289  5872.157373        555      17         28\n1/23/20  5600.04289  5872.157373        654      18         30\n1/24/20  5600.04289  5872.157373        941      26         36\n1/25/20  5600.04289  5872.157373       1434      42         39\n1/26/20  5600.04289  5872.157373       2118      56         52",
                        "text/html": "<div>\n<style scoped>\n    .dataframe tbody tr th:only-of-type {\n        vertical-align: middle;\n    }\n\n    .dataframe tbody tr th {\n        vertical-align: top;\n    }\n\n    .dataframe thead th {\n        text-align: right;\n    }\n</style>\n<table border=\"1\" class=\"dataframe\">\n  <thead>\n    <tr style=\"text-align: right;\">\n      <th></th>\n      <th>Lat</th>\n      <th>Long</th>\n      <th>Confirmed</th>\n      <th>Deaths</th>\n      <th>Recovered</th>\n    </tr>\n    <tr>\n      <th>Date</th>\n      <th></th>\n      <th></th>\n      <th></th>\n      <th></th>\n      <th></th>\n    </tr>\n  </thead>\n  <tbody>\n    <tr>\n      <th>1/22/20</th>\n      <td>5600.04289</td>\n      <td>5872.157373</td>\n      <td>555</td>\n      <td>17</td>\n      <td>28</td>\n    </tr>\n    <tr>\n      <th>1/23/20</th>\n      <td>5600.04289</td>\n      <td>5872.157373</td>\n      <td>654</td>\n      <td>18</td>\n      <td>30</td>\n    </tr>\n    <tr>\n      <th>1/24/20</th>\n      <td>5600.04289</td>\n      <td>5872.157373</td>\n      <td>941</td>\n      <td>26</td>\n      <td>36</td>\n    </tr>\n    <tr>\n      <th>1/25/20</th>\n      <td>5600.04289</td>\n      <td>5872.157373</td>\n      <td>1434</td>\n      <td>42</td>\n      <td>39</td>\n    </tr>\n    <tr>\n      <th>1/26/20</th>\n      <td>5600.04289</td>\n      <td>5872.157373</td>\n      <td>2118</td>\n      <td>56</td>\n      <td>52</td>\n    </tr>\n  </tbody>\n</table>\n</div>"
                    },
                    "metadata": {}
                }
            ]
        },
        {
            "metadata": {},
            "cell_type": "code",
            "source": "",
            "execution_count": null,
            "outputs": []
        }
    ],
    "metadata": {
        "kernelspec": {
            "name": "python3",
            "display_name": "Python 3.6",
            "language": "python"
        },
        "language_info": {
            "name": "python",
            "version": "3.6.9",
            "mimetype": "text/x-python",
            "codemirror_mode": {
                "name": "ipython",
                "version": 3
            },
            "pygments_lexer": "ipython3",
            "nbconvert_exporter": "python",
            "file_extension": ".py"
        }
    },
    "nbformat": 4,
    "nbformat_minor": 1
}